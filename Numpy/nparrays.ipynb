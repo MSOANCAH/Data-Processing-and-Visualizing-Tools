{
 "cells": [
  {
   "cell_type": "code",
   "execution_count": 9,
   "metadata": {
    "collapsed": false
   },
   "outputs": [
    {
     "data": {
      "text/plain": [
       "array([1, 2, 3])"
      ]
     },
     "execution_count": 9,
     "metadata": {},
     "output_type": "execute_result"
    }
   ],
   "source": [
    "import numpy as np\n",
    "\n",
    "#Numpy array creation\n",
    "my_array=np.array([1,2,3]) #rank 1 array\n",
    "my_array"
   ]
  },
  {
   "cell_type": "code",
   "execution_count": 10,
   "metadata": {
    "collapsed": false
   },
   "outputs": [
    {
     "data": {
      "text/plain": [
       "array([[1, 2, 3],\n",
       "       [2, 3, 0]])"
      ]
     },
     "execution_count": 10,
     "metadata": {},
     "output_type": "execute_result"
    }
   ],
   "source": [
    "my_array1=np.array([[1,2,3],\n",
    "                    [2,3,0]]) #rank 2 array\n",
    "my_array1"
   ]
  },
  {
   "cell_type": "code",
   "execution_count": 15,
   "metadata": {
    "collapsed": false
   },
   "outputs": [
    {
     "data": {
      "text/plain": [
       "array([[ 0.,  0.,  0.],\n",
       "       [ 0.,  0.,  0.]])"
      ]
     },
     "execution_count": 15,
     "metadata": {},
     "output_type": "execute_result"
    }
   ],
   "source": [
    "a=np.zeros((2,3))#2 rows 3 colums\n",
    "a"
   ]
  },
  {
   "cell_type": "code",
   "execution_count": 17,
   "metadata": {
    "collapsed": false,
    "scrolled": true
   },
   "outputs": [
    {
     "data": {
      "text/plain": [
       "array([[[[ 0.,  0.,  0.,  0.,  0.,  0.],\n",
       "         [ 0.,  0.,  0.,  0.,  0.,  0.],\n",
       "         [ 0.,  0.,  0.,  0.,  0.,  0.],\n",
       "         [ 0.,  0.,  0.,  0.,  0.,  0.],\n",
       "         [ 0.,  0.,  0.,  0.,  0.,  0.]],\n",
       "\n",
       "        [[ 0.,  0.,  0.,  0.,  0.,  0.],\n",
       "         [ 0.,  0.,  0.,  0.,  0.,  0.],\n",
       "         [ 0.,  0.,  0.,  0.,  0.,  0.],\n",
       "         [ 0.,  0.,  0.,  0.,  0.,  0.],\n",
       "         [ 0.,  0.,  0.,  0.,  0.,  0.]]],\n",
       "\n",
       "\n",
       "       [[[ 0.,  0.,  0.,  0.,  0.,  0.],\n",
       "         [ 0.,  0.,  0.,  0.,  0.,  0.],\n",
       "         [ 0.,  0.,  0.,  0.,  0.,  0.],\n",
       "         [ 0.,  0.,  0.,  0.,  0.,  0.],\n",
       "         [ 0.,  0.,  0.,  0.,  0.,  0.]],\n",
       "\n",
       "        [[ 0.,  0.,  0.,  0.,  0.,  0.],\n",
       "         [ 0.,  0.,  0.,  0.,  0.,  0.],\n",
       "         [ 0.,  0.,  0.,  0.,  0.,  0.],\n",
       "         [ 0.,  0.,  0.,  0.,  0.,  0.],\n",
       "         [ 0.,  0.,  0.,  0.,  0.,  0.]]]])"
      ]
     },
     "execution_count": 17,
     "metadata": {},
     "output_type": "execute_result"
    }
   ],
   "source": [
    "a=np.zeros([2,2,5,6])# 5 rows 6 columns -->1 block -->2 rows 2 colums -->2 blocks * 2blocks= 4 blocks\n",
    "a"
   ]
  },
  {
   "cell_type": "code",
   "execution_count": 19,
   "metadata": {
    "collapsed": false
   },
   "outputs": [
    {
     "data": {
      "text/plain": [
       "array([[ 1.,  1.,  1.],\n",
       "       [ 1.,  1.,  1.],\n",
       "       [ 1.,  1.,  1.]])"
      ]
     },
     "execution_count": 19,
     "metadata": {},
     "output_type": "execute_result"
    }
   ],
   "source": [
    "a=np.ones((3,3)) # 3 rows ans 3 columns\n",
    "a"
   ]
  },
  {
   "cell_type": "code",
   "execution_count": 20,
   "metadata": {
    "collapsed": false
   },
   "outputs": [
    {
     "data": {
      "text/plain": [
       "array([[[[ 1.,  1.,  1.,  1.,  1.,  1.],\n",
       "         [ 1.,  1.,  1.,  1.,  1.,  1.],\n",
       "         [ 1.,  1.,  1.,  1.,  1.,  1.],\n",
       "         [ 1.,  1.,  1.,  1.,  1.,  1.],\n",
       "         [ 1.,  1.,  1.,  1.,  1.,  1.]],\n",
       "\n",
       "        [[ 1.,  1.,  1.,  1.,  1.,  1.],\n",
       "         [ 1.,  1.,  1.,  1.,  1.,  1.],\n",
       "         [ 1.,  1.,  1.,  1.,  1.,  1.],\n",
       "         [ 1.,  1.,  1.,  1.,  1.,  1.],\n",
       "         [ 1.,  1.,  1.,  1.,  1.,  1.]]],\n",
       "\n",
       "\n",
       "       [[[ 1.,  1.,  1.,  1.,  1.,  1.],\n",
       "         [ 1.,  1.,  1.,  1.,  1.,  1.],\n",
       "         [ 1.,  1.,  1.,  1.,  1.,  1.],\n",
       "         [ 1.,  1.,  1.,  1.,  1.,  1.],\n",
       "         [ 1.,  1.,  1.,  1.,  1.,  1.]],\n",
       "\n",
       "        [[ 1.,  1.,  1.,  1.,  1.,  1.],\n",
       "         [ 1.,  1.,  1.,  1.,  1.,  1.],\n",
       "         [ 1.,  1.,  1.,  1.,  1.,  1.],\n",
       "         [ 1.,  1.,  1.,  1.,  1.,  1.],\n",
       "         [ 1.,  1.,  1.,  1.,  1.,  1.]]]])"
      ]
     },
     "execution_count": 20,
     "metadata": {},
     "output_type": "execute_result"
    }
   ],
   "source": [
    "b=np.ones([2,2,5,6])\n",
    "b"
   ]
  },
  {
   "cell_type": "code",
   "execution_count": 21,
   "metadata": {
    "collapsed": false
   },
   "outputs": [
    {
     "name": "stderr",
     "output_type": "stream",
     "text": [
      "C:\\Users\\Madhu\\AppData\\Local\\Continuum\\Anaconda3\\lib\\site-packages\\numpy\\core\\numeric.py:301: FutureWarning: in the future, full((2, 2), 7) will return an array of dtype('int32')\n",
      "  format(shape, fill_value, array(fill_value).dtype), FutureWarning)\n"
     ]
    },
    {
     "data": {
      "text/plain": [
       "array([[ 7.,  7.],\n",
       "       [ 7.,  7.]])"
      ]
     },
     "execution_count": 21,
     "metadata": {},
     "output_type": "execute_result"
    }
   ],
   "source": [
    "a=np.full((2,2),7)\n",
    "a"
   ]
  },
  {
   "cell_type": "code",
   "execution_count": 22,
   "metadata": {
    "collapsed": false
   },
   "outputs": [
    {
     "name": "stderr",
     "output_type": "stream",
     "text": [
      "C:\\Users\\Madhu\\AppData\\Local\\Continuum\\Anaconda3\\lib\\site-packages\\numpy\\core\\numeric.py:301: FutureWarning: in the future, full([2, 2, 3, 4], 7) will return an array of dtype('int32')\n",
      "  format(shape, fill_value, array(fill_value).dtype), FutureWarning)\n"
     ]
    },
    {
     "data": {
      "text/plain": [
       "array([[[[ 7.,  7.,  7.,  7.],\n",
       "         [ 7.,  7.,  7.,  7.],\n",
       "         [ 7.,  7.,  7.,  7.]],\n",
       "\n",
       "        [[ 7.,  7.,  7.,  7.],\n",
       "         [ 7.,  7.,  7.,  7.],\n",
       "         [ 7.,  7.,  7.,  7.]]],\n",
       "\n",
       "\n",
       "       [[[ 7.,  7.,  7.,  7.],\n",
       "         [ 7.,  7.,  7.,  7.],\n",
       "         [ 7.,  7.,  7.,  7.]],\n",
       "\n",
       "        [[ 7.,  7.,  7.,  7.],\n",
       "         [ 7.,  7.,  7.,  7.],\n",
       "         [ 7.,  7.,  7.,  7.]]]])"
      ]
     },
     "execution_count": 22,
     "metadata": {},
     "output_type": "execute_result"
    }
   ],
   "source": [
    "b=np.full([2,2,3,4],7)\n",
    "b"
   ]
  },
  {
   "cell_type": "code",
   "execution_count": 23,
   "metadata": {
    "collapsed": false
   },
   "outputs": [
    {
     "data": {
      "text/plain": [
       "array([[ 1.,  0.],\n",
       "       [ 0.,  1.]])"
      ]
     },
     "execution_count": 23,
     "metadata": {},
     "output_type": "execute_result"
    }
   ],
   "source": [
    "a =np.eye(2) #creates identity matrix\n",
    "a"
   ]
  },
  {
   "cell_type": "code",
   "execution_count": 27,
   "metadata": {
    "collapsed": false
   },
   "outputs": [
    {
     "data": {
      "text/plain": [
       "array([[ 0.1127539 ,  0.22045691],\n",
       "       [ 0.938396  ,  0.59100046]])"
      ]
     },
     "execution_count": 27,
     "metadata": {},
     "output_type": "execute_result"
    }
   ],
   "source": [
    "a=np.random.random((2,2)) #creates random values between 0 and 1\n",
    "a"
   ]
  },
  {
   "cell_type": "code",
   "execution_count": 28,
   "metadata": {
    "collapsed": false
   },
   "outputs": [
    {
     "data": {
      "text/plain": [
       "array([[ 0.40637874,  0.12808159],\n",
       "       [ 0.90015091,  0.15754539]])"
      ]
     },
     "execution_count": 28,
     "metadata": {},
     "output_type": "execute_result"
    }
   ],
   "source": [
    "b=np.random.random([2,2])\n",
    "b"
   ]
  },
  {
   "cell_type": "code",
   "execution_count": 29,
   "metadata": {
    "collapsed": false
   },
   "outputs": [
    {
     "data": {
      "text/plain": [
       "array([[[  4.51078115e-01,   8.61412487e-01,   1.22777176e-01],\n",
       "        [  4.36225396e-01,   3.58512955e-01,   6.64496350e-04]],\n",
       "\n",
       "       [[  3.38728015e-01,   5.52690619e-01,   2.45450717e-01],\n",
       "        [  3.56059292e-01,   7.19209110e-01,   7.19072713e-01]]])"
      ]
     },
     "execution_count": 29,
     "metadata": {},
     "output_type": "execute_result"
    }
   ],
   "source": [
    "b=np.random.random([2,2,3])\n",
    "b"
   ]
  },
  {
   "cell_type": "code",
   "execution_count": 30,
   "metadata": {
    "collapsed": false
   },
   "outputs": [
    {
     "data": {
      "text/plain": [
       "array([[[[ 0.17087668,  0.21368717,  0.55290831],\n",
       "         [ 0.59837578,  0.05054088,  0.85075484],\n",
       "         [ 0.46000426,  0.11347536,  0.77387342]],\n",
       "\n",
       "        [[ 0.41838707,  0.86928883,  0.02210635],\n",
       "         [ 0.08060726,  0.58753425,  0.0663617 ],\n",
       "         [ 0.48987666,  0.54992788,  0.61669236]]],\n",
       "\n",
       "\n",
       "       [[[ 0.76197587,  0.78630274,  0.36385055],\n",
       "         [ 0.24487299,  0.18062016,  0.61464046],\n",
       "         [ 0.57429763,  0.67909001,  0.13543418]],\n",
       "\n",
       "        [[ 0.64943623,  0.59246389,  0.26649633],\n",
       "         [ 0.25809336,  0.57868682,  0.17626231],\n",
       "         [ 0.6960004 ,  0.24855071,  0.86071949]]]])"
      ]
     },
     "execution_count": 30,
     "metadata": {},
     "output_type": "execute_result"
    }
   ],
   "source": [
    "b=np.random.random([2,2,3,3])\n",
    "b"
   ]
  },
  {
   "cell_type": "code",
   "execution_count": null,
   "metadata": {
    "collapsed": true
   },
   "outputs": [],
   "source": []
  }
 ],
 "metadata": {
  "kernelspec": {
   "display_name": "Python 3",
   "language": "python",
   "name": "python3"
  },
  "language_info": {
   "codemirror_mode": {
    "name": "ipython",
    "version": 3
   },
   "file_extension": ".py",
   "mimetype": "text/x-python",
   "name": "python",
   "nbconvert_exporter": "python",
   "pygments_lexer": "ipython3",
   "version": "3.6.0"
  }
 },
 "nbformat": 4,
 "nbformat_minor": 2
}
